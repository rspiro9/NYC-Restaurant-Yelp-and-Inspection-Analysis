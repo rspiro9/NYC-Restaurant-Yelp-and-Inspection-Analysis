{
 "cells": [
  {
   "cell_type": "markdown",
   "metadata": {},
   "source": [
    "# Part 5: Model - Classification Analysis\n",
    "\n",
    "Now let's switch gears and use a Classification Analysis to see if we can predict if a restaurant will get a high (4+) or low (0-3.5) Yelp rating based on metrics such as the inspection grade, the location, the number of reviews, the type of cuisine, etc. Understanding which features are most important in accurately predicting a Yelp rating can help restaurateurs figure out what they can do to put themselves in the best position to receive good Yelp reviews (i.e. be in a certain location, serve a certain type of food, etc.). Having a better Yelp review often can influence additional consumers to walk through your restaurant doors, which will lead to greater profits for the restuarant.\n",
    "\n",
    "For this analysis, I have used classification, a type of supervised machine learning that uses labelled data to help predict which group a data point should be classified into. I will run 5 different classification models in order to determine which of the five would be most accurate and therefore should be utilized. The five classification models used are:\n",
    "\n",
    "1. Decision Tree\n",
    "2. Randoom Forest\n",
    "3. Adaboost\n",
    "4. XGBoost\n",
    "5. Logistic Regression\n",
    "\n",
    "Let's begin!\n",
    "\n",
    "First, let's import the necessary libraries and our dataset which we scrubbed in our first notebook."
   ]
  },
  {
   "cell_type": "code",
   "execution_count": 1,
   "metadata": {},
   "outputs": [],
   "source": [
    "# Import Libraries:\n",
    "import pandas as pd\n",
    "import numpy as np\n",
    "import pickle\n",
    "import matplotlib.pyplot as plt\n",
    "import seaborn as sns\n",
    "from sklearn import preprocessing\n",
    "%matplotlib inline\n",
    "import itertools\n",
    "from sklearn.exceptions import DataConversionWarning\n",
    "import warnings\n",
    "warnings.filterwarnings('ignore')\n",
    "\n",
    "# Libraries for machine learning modeling & confusion matrices\n",
    "from sklearn.model_selection import train_test_split\n",
    "from sklearn.metrics import accuracy_score, confusion_matrix, f1_score, classification_report\n",
    "from sklearn.linear_model import LogisticRegression\n",
    "from sklearn.tree import DecisionTreeClassifier \n",
    "from sklearn.model_selection import GridSearchCV\n",
    "from sklearn.ensemble import RandomForestClassifier\n",
    "from sklearn.ensemble import AdaBoostClassifier\n",
    "from xgboost import XGBClassifier"
   ]
  },
  {
   "cell_type": "code",
   "execution_count": 2,
   "metadata": {},
   "outputs": [
    {
     "name": "stdout",
     "output_type": "stream",
     "text": [
      "3930\n"
     ]
    },
    {
     "data": {
      "text/html": [
       "<div>\n",
       "<style scoped>\n",
       "    .dataframe tbody tr th:only-of-type {\n",
       "        vertical-align: middle;\n",
       "    }\n",
       "\n",
       "    .dataframe tbody tr th {\n",
       "        vertical-align: top;\n",
       "    }\n",
       "\n",
       "    .dataframe thead th {\n",
       "        text-align: right;\n",
       "    }\n",
       "</style>\n",
       "<table border=\"1\" class=\"dataframe\">\n",
       "  <thead>\n",
       "    <tr style=\"text-align: right;\">\n",
       "      <th></th>\n",
       "      <th>CAMIS</th>\n",
       "      <th>DBA</th>\n",
       "      <th>BORO</th>\n",
       "      <th>BUILDING</th>\n",
       "      <th>STREET</th>\n",
       "      <th>ZIPCODE</th>\n",
       "      <th>display_phone</th>\n",
       "      <th>CUISINE DESCRIPTION</th>\n",
       "      <th>INSPECTION DATE</th>\n",
       "      <th>ACTION</th>\n",
       "      <th>...</th>\n",
       "      <th>wine_bars</th>\n",
       "      <th>womenscloth</th>\n",
       "      <th>wraps</th>\n",
       "      <th>delivery</th>\n",
       "      <th>pickup</th>\n",
       "      <th>restaurant_reservation</th>\n",
       "      <th>num_of_cat</th>\n",
       "      <th>mainstream_category</th>\n",
       "      <th>rare_category</th>\n",
       "      <th>price_value</th>\n",
       "    </tr>\n",
       "  </thead>\n",
       "  <tbody>\n",
       "    <tr>\n",
       "      <th>0</th>\n",
       "      <td>41322152</td>\n",
       "      <td>1 2 3 BURGER SHOT BEER</td>\n",
       "      <td>Manhattan</td>\n",
       "      <td>738</td>\n",
       "      <td>10 AVENUE</td>\n",
       "      <td>10019.0</td>\n",
       "      <td>(212) 315-0123</td>\n",
       "      <td>American</td>\n",
       "      <td>2019-12-20</td>\n",
       "      <td>Violations were cited in the following area(s).</td>\n",
       "      <td>...</td>\n",
       "      <td>0</td>\n",
       "      <td>0</td>\n",
       "      <td>0</td>\n",
       "      <td>1</td>\n",
       "      <td>1</td>\n",
       "      <td>0</td>\n",
       "      <td>3</td>\n",
       "      <td>1</td>\n",
       "      <td>0</td>\n",
       "      <td>1</td>\n",
       "    </tr>\n",
       "    <tr>\n",
       "      <th>1</th>\n",
       "      <td>41430594</td>\n",
       "      <td>1 STOP PATTY SHOP</td>\n",
       "      <td>Manhattan</td>\n",
       "      <td>1708</td>\n",
       "      <td>AMSTERDAM AVENUE</td>\n",
       "      <td>10031.0</td>\n",
       "      <td>(212) 491-7466</td>\n",
       "      <td>Bakery</td>\n",
       "      <td>2019-03-27</td>\n",
       "      <td>Violations were cited in the following area(s).</td>\n",
       "      <td>...</td>\n",
       "      <td>0</td>\n",
       "      <td>0</td>\n",
       "      <td>0</td>\n",
       "      <td>0</td>\n",
       "      <td>0</td>\n",
       "      <td>0</td>\n",
       "      <td>2</td>\n",
       "      <td>1</td>\n",
       "      <td>0</td>\n",
       "      <td>1</td>\n",
       "    </tr>\n",
       "    <tr>\n",
       "      <th>2</th>\n",
       "      <td>50059935</td>\n",
       "      <td>108 FOOD DRIED HOT POT</td>\n",
       "      <td>Manhattan</td>\n",
       "      <td>2794</td>\n",
       "      <td>BROADWAY</td>\n",
       "      <td>10025.0</td>\n",
       "      <td>(917) 675-6878</td>\n",
       "      <td>Chinese</td>\n",
       "      <td>2019-05-23</td>\n",
       "      <td>Violations were cited in the following area(s).</td>\n",
       "      <td>...</td>\n",
       "      <td>0</td>\n",
       "      <td>0</td>\n",
       "      <td>0</td>\n",
       "      <td>1</td>\n",
       "      <td>1</td>\n",
       "      <td>0</td>\n",
       "      <td>2</td>\n",
       "      <td>1</td>\n",
       "      <td>0</td>\n",
       "      <td>2</td>\n",
       "    </tr>\n",
       "    <tr>\n",
       "      <th>3</th>\n",
       "      <td>41092609</td>\n",
       "      <td>10TH AVENUE COOKSHOP</td>\n",
       "      <td>Manhattan</td>\n",
       "      <td>156</td>\n",
       "      <td>10 AVENUE</td>\n",
       "      <td>10011.0</td>\n",
       "      <td>(212) 924-4440</td>\n",
       "      <td>American</td>\n",
       "      <td>2019-04-11</td>\n",
       "      <td>Violations were cited in the following area(s).</td>\n",
       "      <td>...</td>\n",
       "      <td>1</td>\n",
       "      <td>0</td>\n",
       "      <td>0</td>\n",
       "      <td>1</td>\n",
       "      <td>1</td>\n",
       "      <td>0</td>\n",
       "      <td>3</td>\n",
       "      <td>1</td>\n",
       "      <td>0</td>\n",
       "      <td>2</td>\n",
       "    </tr>\n",
       "    <tr>\n",
       "      <th>4</th>\n",
       "      <td>50057272</td>\n",
       "      <td>11 HANOVER GREEK</td>\n",
       "      <td>Manhattan</td>\n",
       "      <td>11</td>\n",
       "      <td>HANOVER SQ</td>\n",
       "      <td>10005.0</td>\n",
       "      <td>(212) 785-4000</td>\n",
       "      <td>Greek</td>\n",
       "      <td>2019-02-28</td>\n",
       "      <td>Violations were cited in the following area(s).</td>\n",
       "      <td>...</td>\n",
       "      <td>1</td>\n",
       "      <td>0</td>\n",
       "      <td>0</td>\n",
       "      <td>1</td>\n",
       "      <td>1</td>\n",
       "      <td>0</td>\n",
       "      <td>3</td>\n",
       "      <td>1</td>\n",
       "      <td>0</td>\n",
       "      <td>3</td>\n",
       "    </tr>\n",
       "  </tbody>\n",
       "</table>\n",
       "<p>5 rows × 304 columns</p>\n",
       "</div>"
      ],
      "text/plain": [
       "      CAMIS                     DBA       BORO BUILDING            STREET  \\\n",
       "0  41322152  1 2 3 BURGER SHOT BEER  Manhattan      738         10 AVENUE   \n",
       "1  41430594       1 STOP PATTY SHOP  Manhattan     1708  AMSTERDAM AVENUE   \n",
       "2  50059935  108 FOOD DRIED HOT POT  Manhattan     2794          BROADWAY   \n",
       "3  41092609    10TH AVENUE COOKSHOP  Manhattan      156         10 AVENUE   \n",
       "4  50057272        11 HANOVER GREEK  Manhattan       11        HANOVER SQ   \n",
       "\n",
       "   ZIPCODE   display_phone CUISINE DESCRIPTION INSPECTION DATE  \\\n",
       "0  10019.0  (212) 315-0123            American      2019-12-20   \n",
       "1  10031.0  (212) 491-7466              Bakery      2019-03-27   \n",
       "2  10025.0  (917) 675-6878             Chinese      2019-05-23   \n",
       "3  10011.0  (212) 924-4440            American      2019-04-11   \n",
       "4  10005.0  (212) 785-4000               Greek      2019-02-28   \n",
       "\n",
       "                                            ACTION     ...     wine_bars  \\\n",
       "0  Violations were cited in the following area(s).     ...             0   \n",
       "1  Violations were cited in the following area(s).     ...             0   \n",
       "2  Violations were cited in the following area(s).     ...             0   \n",
       "3  Violations were cited in the following area(s).     ...             1   \n",
       "4  Violations were cited in the following area(s).     ...             1   \n",
       "\n",
       "  womenscloth wraps delivery pickup  restaurant_reservation  num_of_cat  \\\n",
       "0           0     0        1      1                       0           3   \n",
       "1           0     0        0      0                       0           2   \n",
       "2           0     0        1      1                       0           2   \n",
       "3           0     0        1      1                       0           3   \n",
       "4           0     0        1      1                       0           3   \n",
       "\n",
       "   mainstream_category rare_category price_value  \n",
       "0                    1             0           1  \n",
       "1                    1             0           1  \n",
       "2                    1             0           2  \n",
       "3                    1             0           2  \n",
       "4                    1             0           3  \n",
       "\n",
       "[5 rows x 304 columns]"
      ]
     },
     "execution_count": 2,
     "metadata": {},
     "output_type": "execute_result"
    }
   ],
   "source": [
    "# Import Data:\n",
    "with open ('scrubbed_data.pickle','rb') as f:\n",
    "    df_merged = pickle.load(f)\n",
    "\n",
    "print(len(df_merged))\n",
    "df_merged.head()"
   ]
  },
  {
   "cell_type": "markdown",
   "metadata": {},
   "source": [
    "Many of our data columns are currently filled with categorical data, which our model will be unable to read. Therefore, we have to update the data to be numerical. We will use one-hot encoding to turn each category within a column into its own column with numerical data that our model is able to properly use."
   ]
  },
  {
   "cell_type": "code",
   "execution_count": 3,
   "metadata": {},
   "outputs": [],
   "source": [
    "# Change the price column to be strings:\n",
    "df_merged['price_value'].astype(str)\n",
    "\n",
    "# Get dummy variables for categorical columns that have not yet been one-hot encoded:\n",
    "df_merged = pd.get_dummies(df_merged, columns = ['GRADE', 'neighborhood', 'CRITICAL FLAG','count_range',\n",
    "                          'price_value'])"
   ]
  },
  {
   "cell_type": "markdown",
   "metadata": {},
   "source": [
    "Next, we will add in a column to represent our target which is either a high rating (4+) or a low rating (0-3.5). We will also break our data into train and test sets. Doing so helps ensure that we do not overfit or underfit our model."
   ]
  },
  {
   "cell_type": "code",
   "execution_count": 4,
   "metadata": {},
   "outputs": [],
   "source": [
    "# Convert ratings columns values so that the target variable will not be continuous: \n",
    "df_merged['high_rating'] = df_merged['rating'].apply(lambda x: 1 if x > 3.5 else 0)\n",
    "\n",
    "# Identify our X and y variables:\n",
    "X = df_merged.drop(columns=['CAMIS','DBA','BORO','BUILDING','STREET','ZIPCODE','display_phone','CUISINE DESCRIPTION',\n",
    "                           'INSPECTION DATE','ACTION','SCORE','GRADE DATE','INSPECTION TYPE','Latitude','Longitude',\n",
    "                           '#_of_inspections','name','price','rating','review_count','transactions',\n",
    "                            'categories_clean','latitude','longitude','address','city','zip_code',\n",
    "                            'state','num_of_cat','high_rating',],\n",
    "                   axis=1)\n",
    "y = df_merged.loc[:,'high_rating']\n",
    "\n",
    "# Split into train and test sets:\n",
    "X_train, X_test, y_train, y_test = train_test_split(X, y, test_size = 0.3, random_state = 42)"
   ]
  },
  {
   "cell_type": "markdown",
   "metadata": {},
   "source": [
    "A few of our columns had very few data points in them. Once we split into training and testing data, we end up with certain columns having all of their data in one of the new train/test datasets and no values in the other dataset. Therefore, we will use the below function to remove all of the columns that have no data in them. We will remove these columns in both the training and testing datasets to ensure we still have the same columns present in each set."
   ]
  },
  {
   "cell_type": "code",
   "execution_count": 5,
   "metadata": {},
   "outputs": [
    {
     "name": "stdout",
     "output_type": "stream",
     "text": [
      "X_train # of columns: 195 \n",
      " X_test # of columns: 195 \n",
      " X # of columns: 195\n"
     ]
    }
   ],
   "source": [
    "# Create function that identifies columns with no entries:\n",
    "def remove_columns(data):\n",
    "    '''This function will take a dataset and identify any columns whose values sum to zero,\n",
    "    indicating no data is present in the column.'''\n",
    "    \n",
    "    e_dataframe = []\n",
    "    temp_dataframe = []\n",
    "    columns = list(data.columns.values)\n",
    "\n",
    "    for i in columns:\n",
    "        if data[i].sum().any() == 0:\n",
    "            e_dataframe.append(i)\n",
    "        else:\n",
    "            temp_dataframe.append(i)\n",
    "    \n",
    "    return e_dataframe\n",
    "\n",
    "# Run function to identify columns that need to be removed for both X_train and X_test datasets\n",
    "empty1 = remove_columns(X_train)\n",
    "empty2 = remove_columns(X_test)\n",
    "\n",
    "# Merge the two lists of columns that need to be removed. Use set() function to remove duplicates:\n",
    "empty = list(set(empty1 + empty2))\n",
    "\n",
    "# Drop columns that are included in the 'empty' list\n",
    "X_train = X_train.drop(columns=empty,axis=1)\n",
    "X_test = X_test.drop(columns=empty,axis=1)\n",
    "X = X.drop(columns=empty,axis=1)\n",
    "\n",
    "# Ensure our X_train and X_test sets have the same number of columns:\n",
    "print('X_train # of columns:', len(X_train.columns),'\\n','X_test # of columns:',len(X_test.columns),'\\n',\n",
    "      'X # of columns:',len(X.columns))"
   ]
  },
  {
   "cell_type": "markdown",
   "metadata": {},
   "source": [
    "A good visual way to visualize how accurate our model is is by referencing a confusion matrix. This is a table used to describe the performance of the model. The confusion matrix will show us how many of each of the below groupings the model gives us:\n",
    "\n",
    "- **True Positives (TP)** - # of observations where model predicted a high rating and it actually was a high rating\n",
    "- **True Negatives (TN)** - # of observations where model predicted a not a high rating and it actually was not a high rating\n",
    "- **False Positive (FP)** - # of observations where model predicted a high rating but it actually was not a high rating\n",
    "- **False Negative (FN)** - # of observations where model predicted a not high rating and it actually was a high rating"
   ]
  },
  {
   "cell_type": "code",
   "execution_count": 6,
   "metadata": {},
   "outputs": [],
   "source": [
    "# Define Confusion Matrix:\n",
    "def confusion_matrix_plot(cm, classes,\n",
    "                          normalize=False,\n",
    "                          title='Confusion matrix',\n",
    "                          cmap=plt.cm.Blues):\n",
    "    '''This function will create a confusion matrix chart which shows the accuracy breakdown of the given model.\n",
    "    Inputs:\n",
    "        cm: confusion matrix function for tested and predicted y values\n",
    "        classes: variables to identify for each class (0 or 1)\n",
    "        normalize: if True will normalize the data, if False will not normalize the data\n",
    "        title: title of the chart\n",
    "        cmap: colors to plot\n",
    "    Returns:\n",
    "        A graph that represents the confusion matrix\n",
    "    '''\n",
    "   \n",
    "    plt.imshow(cm, interpolation='nearest', cmap=cmap)\n",
    "    \n",
    "    # Add title and labels:\n",
    "    plt.title(title)\n",
    "    plt.ylabel('True label')\n",
    "    plt.xlabel('Predicted label')\n",
    "    \n",
    "    # Add axis scales and tick marks:\n",
    "    tick_marks = np.arange(len(classes))\n",
    "    plt.xticks(tick_marks, classes, rotation=45)\n",
    "    plt.yticks(tick_marks, classes)\n",
    "    \n",
    "    # Add labels to each cell:\n",
    "    thresh = cm.max() / 2.\n",
    "    # Iterate through confusion matrix and append labels to the plot:\n",
    "    for i, j in itertools.product(range(cm.shape[0]), range(cm.shape[1])):\n",
    "        plt.text(j, i, cm[i, j],\n",
    "                 horizontalalignment='center',\n",
    "                 color='white' if cm[i, j] > thresh else 'black')\n",
    "        \n",
    "    # Add legend:\n",
    "    plt.colorbar()\n",
    "    plt.show()\n",
    "    \n",
    "# Use High Rating and Low Rating  for 0 and 1 classes \n",
    "class_names = ['High Rating','Low Rating']"
   ]
  },
  {
   "cell_type": "markdown",
   "metadata": {},
   "source": [
    "In addition to the confusion matrix, I will also use a classification report, which provides four key metrics in evaluating the performance of a model. The four metrics are:\n",
    "1. Precision - measures how accurate the predictions are\n",
    "> <br>Precision = TP / (TP + FP)<br>\n",
    "2. Recall - % of positives correctly identified\n",
    "> <br>Recall = TP / (TP + FN)<br>\n",
    "3. F1-score - Harmonic mean of precision and recall.\n",
    "> <br>F1-score = 2 x (precision x recall)/(precision + recall)\n",
    "4. Support - # of samples of the true responses that are in the class.\n",
    "\n",
    "Once we have identified our best model, we will then identify which specific features are most important. To do that, I will use the below function."
   ]
  },
  {
   "cell_type": "code",
   "execution_count": 7,
   "metadata": {},
   "outputs": [],
   "source": [
    "# Define function to show most important features both visually and in list form\n",
    "def plot_feature_importances(df, model, num=30, return_list=False):\n",
    "    '''\n",
    "    Inputs:\n",
    "       df : Dataframe to use \n",
    "       model : Specific Classification model to extract feature importances from\n",
    "       num : Number of features that should be plotted\n",
    "       return_list : If true, returns a list of the features identified as important\n",
    "    \n",
    "    Returns:\n",
    "        Plots a bar graph showing feature importances of num features. Graph is in \n",
    "        descending order of feature importances\n",
    "        If return_list = True, a list of sorted num features will be provided as well.\n",
    "        \n",
    "    '''\n",
    "    feat_imp = dict(zip(df.columns, model.feature_importances_))\n",
    "    data = sorted(feat_imp.items(), key=lambda x: x[1], reverse=True)[:num]\n",
    "        \n",
    "    plt.barh([x[0] for x in data], [x[1] for x in data], align='center', color='darkolivegreen') \n",
    "    plt.xlabel(\"Feature importance\", size=14)\n",
    "    \n",
    "    if return_list:\n",
    "        return data"
   ]
  },
  {
   "cell_type": "markdown",
   "metadata": {},
   "source": [
    "Now let's go ahead and run our models.\n",
    "\n",
    "## 5.1 Decision Tree:\n",
    "The decision tree model uses a tree-like structure to classify by efficiently partitioning each sample into sets with similar data points until you get to a homogenous set and can reasonably predict values for new data.\n",
    "\n",
    "First, I will run a grid search to determine which parameters will optimize our model. This step will allow us to have a better chance at getting a more accurate model. Once I have the 'best parameters' identified, I can then utilize those in the decision tree classification. The parameters I will be adjusting are:\n",
    "\n",
    "- *criterion:* measures the quality of the split by looking at impurity either through gini or entropy\n",
    "- *max_depth:* maximum number of levels of a tree\n",
    "- *min_samples_split:* minimum number of samples required to split an internal node"
   ]
  },
  {
   "cell_type": "code",
   "execution_count": 8,
   "metadata": {},
   "outputs": [
    {
     "name": "stdout",
     "output_type": "stream",
     "text": [
      "Best accuracy: 0.675\n",
      "\n",
      "Best params:\n",
      " {'criterion': 'gini', 'max_depth': 9, 'min_samples_split': 4}\n"
     ]
    }
   ],
   "source": [
    "# Determine optimal parameters:\n",
    "# Declare a baseline classifier:\n",
    "dtree = DecisionTreeClassifier()\n",
    "\n",
    "# Create the grid parameter:\n",
    "grid_dtree = {'criterion': [\"gini\", \"entropy\"],\n",
    "              'max_depth': range(1,10), \n",
    "              'min_samples_split': range(1,10)}\n",
    "\n",
    "\n",
    "# Create the grid:\n",
    "gs_dtree = GridSearchCV(estimator=dtree, \n",
    "                          param_grid=grid_dtree, \n",
    "                          scoring='accuracy', \n",
    "                          cv=5)\n",
    "\n",
    "# Fit using grid search:\n",
    "gs_dtree.fit(X_train, y_train)\n",
    "\n",
    "# Print best accuracy and best parameters:\n",
    "print('Best accuracy: %.3f' % gs_dtree.best_score_)\n",
    "print('\\nBest params:\\n', gs_dtree.best_params_)"
   ]
  },
  {
   "cell_type": "code",
   "execution_count": 8,
   "metadata": {},
   "outputs": [
    {
     "name": "stdout",
     "output_type": "stream",
     "text": [
      "Decision Tree Train Accuracy:  73.50054525627044 %\n",
      "Decision Tree Test Accuracy:  70.22900763358778 %\n",
      "              precision    recall  f1-score   support\n",
      "\n",
      "           0       0.61      0.53      0.57       438\n",
      "           1       0.74      0.80      0.77       741\n",
      "\n",
      "    accuracy                           0.70      1179\n",
      "   macro avg       0.68      0.67      0.67      1179\n",
      "weighted avg       0.70      0.70      0.70      1179\n",
      "\n"
     ]
    },
    {
     "data": {
      "image/png": "[encoded data removed]",
      "text/plain": [
       "<Figure size 432x288 with 2 Axes>"
      ]
     },
     "metadata": {
      "needs_background": "light"
     },
     "output_type": "display_data"
    }
   ],
   "source": [
    "# Create the classifier, fit it on the training data and make predictions on the test set:\n",
    "d_tree = DecisionTreeClassifier(criterion='gini',max_depth=9,min_samples_split=4, random_state=123)\n",
    "d_tree = d_tree.fit(X_train, y_train)\n",
    "y_pred_test_d_tree = d_tree.predict(X_test)\n",
    "y_pred_train_d_tree = d_tree.predict(X_train)\n",
    "\n",
    "print('Decision Tree Train Accuracy: ', accuracy_score(y_train, y_pred_train_d_tree)*100,'%')\n",
    "print('Decision Tree Test Accuracy: ', accuracy_score(y_test, y_pred_test_d_tree)*100,'%')\n",
    "\n",
    "# Print classification report:\n",
    "print(classification_report(y_test, y_pred_test_d_tree))\n",
    "\n",
    "# Confusion Matrix for Decision Tree\n",
    "cm_dtree = confusion_matrix(y_test,y_pred_test_d_tree)\n",
    "confusion_matrix_plot(cm_dtree, classes=class_names, title='Decision Tree Confusion Matrix')"
   ]
  },
  {
   "cell_type": "markdown",
   "metadata": {},
   "source": [
    "## 5.2 Random Forest:\n",
    "Random forests are an ensemble method for decision trees that both trains trees on different samples of data (bagging) and randomly selects a subset of features to use as predictors (subspace sampling method) to create a 'forest' of decision trees. This method typically gives better predictions than any single decision tree would.\n",
    "\n",
    "We will again begin by finding the optimal parameters which will then be used in the classification model. The parameters used are:\n",
    "\n",
    "- *n_estimators:* number of trees in the forest\n",
    "- *criterion:* measures the quality of the split by looking at impurity either through gini or entropy\n",
    "- *max_depth:* maximum number of levels of a tree\n",
    "- *max_features:* maximum number of features to consider for splitting a node\n",
    "- *min_samples_split:* minimum number of samples required to split an internal node"
   ]
  },
  {
   "cell_type": "code",
   "execution_count": 11,
   "metadata": {},
   "outputs": [
    {
     "name": "stdout",
     "output_type": "stream",
     "text": [
      "Best accuracy: 0.725\n",
      "\n",
      "Best params:\n",
      " {'criterion': 'entropy', 'max_depth': None, 'max_features': 8, 'min_samples_split': 5, 'n_estimators': 150}\n"
     ]
    }
   ],
   "source": [
    "# Determine optimal parameters:\n",
    "# Declare a baseline classifier:\n",
    "forest = RandomForestClassifier()\n",
    "\n",
    "# Create the grid parameter:\n",
    "grid_rf = {'n_estimators': [100, 120, 150],\n",
    "           'criterion': ['entropy', 'gini'], \n",
    "           'max_depth': [None,1,3,5,7,9],\n",
    "           'max_features': range(1,11),  \n",
    "           'min_samples_split': range(2, 10)}\n",
    "\n",
    "# Create the grid:\n",
    "gs_rf = GridSearchCV(forest, grid_rf, cv=3, n_jobs=-1)\n",
    "\n",
    "# Fit using grid search:\n",
    "gs_rf.fit(X_train, y_train)\n",
    "\n",
    "# Print best accuracy and best parameters:\n",
    "print('Best accuracy: %.3f' % gs_rf.best_score_)\n",
    "print('\\nBest params:\\n', gs_rf.best_params_)"
   ]
  },
  {
   "cell_type": "code",
   "execution_count": 9,
   "metadata": {},
   "outputs": [
    {
     "name": "stdout",
     "output_type": "stream",
     "text": [
      "Random Forest Train Accuracy:  95.56524900036351 %\n",
      "Random Forest Test Accuracy:  75.65733672603902 %\n",
      "              precision    recall  f1-score   support\n",
      "\n",
      "           0       0.72      0.56      0.63       438\n",
      "           1       0.77      0.87      0.82       741\n",
      "\n",
      "    accuracy                           0.76      1179\n",
      "   macro avg       0.75      0.72      0.73      1179\n",
      "weighted avg       0.75      0.76      0.75      1179\n",
      "\n"
     ]
    },
    {
     "data": {
      "image/png": "[encoded data removed]",
      "text/plain": [
       "<Figure size 432x288 with 2 Axes>"
      ]
     },
     "metadata": {
      "needs_background": "light"
     },
     "output_type": "display_data"
    }
   ],
   "source": [
    "# Create the classifier, fit it on the training data and make predictions on the test set:\n",
    "rforest = RandomForestClassifier(n_estimators=150, criterion = 'entropy', max_depth=None, max_features=8, \n",
    "                                 min_samples_split=5, random_state=123)\n",
    "rforest.fit(X_train, y_train)\n",
    "y_pred_test_rf = rforest.predict(X_test)\n",
    "y_pred_train_rf = rforest.predict(X_train)\n",
    "\n",
    "# Check the Accuracy:\n",
    "print('Random Forest Train Accuracy: ', accuracy_score(y_train, y_pred_train_rf)*100,'%')\n",
    "print('Random Forest Test Accuracy: ', accuracy_score(y_test, y_pred_test_rf)*100,'%')\n",
    "\n",
    "# Print classification report:\n",
    "print(classification_report(y_test, y_pred_test_rf))\n",
    "\n",
    "# Confusion Matrix for Random Forest:\n",
    "cm_forest = confusion_matrix(y_test,y_pred_test_rf)\n",
    "confusion_matrix_plot(cm_forest, classes=class_names, title='Random Forest Confusion Matrix')"
   ]
  },
  {
   "cell_type": "markdown",
   "metadata": {},
   "source": [
    "## 5.3 Adaboost:\n",
    "\n",
    "Boosting is another type of ensamble method that leverages an ensamble of weak models to create a strong combined model. Whereas Random Forests trains each model independently, Boosting is an iterative method, using each model to strengthen the weaknessess of the previous model. With Adaboost (Adaptive Boosting), short (one-level) decision trees that are weak learners are added sequentially to the ensemble. Then, each subsequent model works to correct the weakeness made by the previous model. Adaboost is able to do this by weighing the training data to put a greater focus on training examples that had prediction errors in prior models. \n",
    "\n",
    "The metrics we will optimize here are:\n",
    "- *n_estimators:* number of trees in the forest\n",
    "- *learning_rate:* reduces the contribution of each classifier"
   ]
  },
  {
   "cell_type": "code",
   "execution_count": 13,
   "metadata": {},
   "outputs": [
    {
     "name": "stdout",
     "output_type": "stream",
     "text": [
      "Best accuracy: 0.719\n",
      "\n",
      "Best params:\n",
      " {'learning_rate': 1.0, 'n_estimators': 30}\n"
     ]
    }
   ],
   "source": [
    "# Determine optimal parameters:\n",
    "# Declare a baseline classifier:\n",
    "ada = AdaBoostClassifier()\n",
    "\n",
    "# Create the grid parameter:\n",
    "grid_ada = {'n_estimators': [30, 50, 70, 100, 200],\n",
    "            'learning_rate': [1.0, 0.5, 0.1, .05, .01]}\n",
    "\n",
    "# Create the grid:\n",
    "gs_ada = GridSearchCV(ada, grid_ada, scoring='accuracy', cv=3, n_jobs=-1, return_train_score = True)\n",
    "\n",
    "# Fit using grid search:\n",
    "gs_ada.fit(X_train, y_train)\n",
    "\n",
    "# Print best accuracy and best parameters:\n",
    "print('Best accuracy: %.3f' % gs_ada.best_score_)\n",
    "print('\\nBest params:\\n', gs_ada.best_params_)"
   ]
  },
  {
   "cell_type": "code",
   "execution_count": 10,
   "metadata": {},
   "outputs": [
    {
     "name": "stdout",
     "output_type": "stream",
     "text": [
      "Adaboost Train Accuracy:  74.15485278080698 %\n",
      "Adaboost Test Accuracy:  74.72434266327396 %\n",
      "              precision    recall  f1-score   support\n",
      "\n",
      "           0       0.69      0.58      0.63       438\n",
      "           1       0.77      0.84      0.81       741\n",
      "\n",
      "    accuracy                           0.75      1179\n",
      "   macro avg       0.73      0.71      0.72      1179\n",
      "weighted avg       0.74      0.75      0.74      1179\n",
      "\n"
     ]
    },
    {
     "data": {
      "image/png": "[encoded data removed]",
      "text/plain": [
       "<Figure size 432x288 with 2 Axes>"
      ]
     },
     "metadata": {
      "needs_background": "light"
     },
     "output_type": "display_data"
    }
   ],
   "source": [
    "# Create the classifier, fit it on the training data and make predictions on the test set:\n",
    "adab = AdaBoostClassifier(learning_rate=1.0, n_estimators = 30, random_state=123)\n",
    "\n",
    "adab.fit(X_train, y_train)\n",
    "y_pred_test_adab = adab.predict(X_test)\n",
    "y_pred_train_adab = adab.predict(X_train)\n",
    "\n",
    "# Check the Accuracy:\n",
    "print('Adaboost Train Accuracy: ', accuracy_score(y_train, y_pred_train_adab)*100,'%')\n",
    "print('Adaboost Test Accuracy: ', accuracy_score(y_test, y_pred_test_adab)*100,'%')\n",
    "\n",
    "# Print classification report:\n",
    "print(classification_report(y_test, y_pred_test_adab))\n",
    "\n",
    "# Confusion Matrix for Random Forest:\n",
    "cm_adab = confusion_matrix(y_test,y_pred_test_adab)\n",
    "confusion_matrix_plot(cm_adab, classes=class_names, title='Adaboost Confusion Matrix')"
   ]
  },
  {
   "cell_type": "markdown",
   "metadata": {},
   "source": [
    "## 5.4 XGBoost Classifier:\n",
    "\n",
    "XGBoost is another boosting method that implements in the quickest, most performant way possible. It uses gradient boosting, which starts by calculating the overall loss of a weak learner and then uses the gradient and the loss as predictors of the next tree. \n",
    "\n",
    "The classifiers we are optimizing here are:\n",
    "- *learning_rate:* reduces the contribution of each classifier\n",
    "- *max_depth:* maximum number of levels of a tree\n",
    "- *subsample:* fraction of observations to be randomly sampled for each tree.\n",
    "- *gamma:* minimum loss reduction required to make a split\n",
    "- *n_estimators:* number of trees in the forest"
   ]
  },
  {
   "cell_type": "code",
   "execution_count": 15,
   "metadata": {},
   "outputs": [
    {
     "name": "stdout",
     "output_type": "stream",
     "text": [
      "Best accuracy: 0.729\n",
      "\n",
      "Best params:\n",
      " {'gamma': 0.2, 'learning_rate': 0.1, 'max_depth': 3, 'n_estimators': 200, 'subsample': 1}\n"
     ]
    }
   ],
   "source": [
    "# Determine optimal parameters:\n",
    "# Declare a baseline classifier:\n",
    "xgb = XGBClassifier()\n",
    "\n",
    "# Create the grid parameter:\n",
    "grid_xgb = {'learning_rate': [1.0, 0.5, 0.1],\n",
    "            'max_depth': [None, 3, 6, 9],\n",
    "            'subsample': [.5, .7, 1],\n",
    "            'gamma': [ 0.0, 0.1, 0.2],\n",
    "            'n_estimators': [100, 150, 200]}\n",
    "\n",
    "# Create the grid:\n",
    "gs_xgb = GridSearchCV(xgb, grid_xgb, scoring='accuracy',\n",
    "            cv=3, n_jobs=-1, return_train_score = True)\n",
    "\n",
    "# Fit using grid search:\n",
    "gs_xgb.fit(X_train, y_train)\n",
    "\n",
    "# Print best accuracy and best parameters:\n",
    "print('Best accuracy: %.3f' % gs_xgb.best_score_)\n",
    "print('\\nBest params:\\n', gs_xgb.best_params_)"
   ]
  },
  {
   "cell_type": "code",
   "execution_count": 11,
   "metadata": {},
   "outputs": [
    {
     "name": "stdout",
     "output_type": "stream",
     "text": [
      "XGBoost Train Accuracy:  78.80770628862231 %\n",
      "XGBoost Test Accuracy:  75.57251908396947 %\n",
      "              precision    recall  f1-score   support\n",
      "\n",
      "           0       0.72      0.57      0.63       438\n",
      "           1       0.77      0.87      0.82       741\n",
      "\n",
      "    accuracy                           0.76      1179\n",
      "   macro avg       0.74      0.72      0.73      1179\n",
      "weighted avg       0.75      0.76      0.75      1179\n",
      "\n"
     ]
    },
    {
     "data": {
      "image/png": "[encoded data removed]",
      "text/plain": [
       "<Figure size 432x288 with 2 Axes>"
      ]
     },
     "metadata": {
      "needs_background": "light"
     },
     "output_type": "display_data"
    }
   ],
   "source": [
    "# Create the classifier, fit it on the training data and make predictions on the test set:\n",
    "XGB = XGBClassifier(learning_rate=.1, n_estimators = 200, max_depth = 3, subsample = 1, gamma = .2, random_state=123)\n",
    "\n",
    "XGB.fit(X_train, y_train)\n",
    "y_pred_test_xgb = XGB.predict(X_test)\n",
    "y_pred_train_xgb = XGB.predict(X_train)\n",
    "\n",
    "# Check the Accuracy:\n",
    "print('XGBoost Train Accuracy: ', accuracy_score(y_train, y_pred_train_xgb)*100,'%')\n",
    "print('XGBoost Test Accuracy: ', accuracy_score(y_test, y_pred_test_xgb)*100,'%')\n",
    "\n",
    "# Print classification report:\n",
    "print(classification_report(y_test, y_pred_test_xgb))\n",
    "\n",
    "# Confusion Matrix for Random Forest:\n",
    "cm_xgb = confusion_matrix(y_test,y_pred_test_xgb)\n",
    "confusion_matrix_plot(cm_xgb, classes=class_names, title='XGBoost Confusion Matrix')"
   ]
  },
  {
   "cell_type": "markdown",
   "metadata": {},
   "source": [
    "## 5.5 Logistic Regression:\n",
    "\n",
    "Regression is a technique used to predict a response variable from one or more predictor variables. There are 2 main types of regression, Linear and Logistic. Linear regression is used when the response variable is continuous and the regression line is linear. Logistic regression is used when the response variable is binary, and we get a sigmoid function (S-shaped). We will be using logistic regression as it is more apt for classification.\n",
    "\n",
    "The metrics to optimize are:\n",
    "- *penalty:* specifies the norm used in penalization\n",
    "- *C:* controls the regularization (penalty) strength"
   ]
  },
  {
   "cell_type": "code",
   "execution_count": 17,
   "metadata": {},
   "outputs": [
    {
     "name": "stdout",
     "output_type": "stream",
     "text": [
      "Best accuracy: 0.724\n",
      "\n",
      "Best params:\n",
      " {'C': 1, 'penalty': 'l2'}\n"
     ]
    }
   ],
   "source": [
    "# Determine optimal parameters:\n",
    "# Declare a baseline classifier:\n",
    "logreg = LogisticRegression()\n",
    "\n",
    "# Create the grid parameter:\n",
    "grid_log = {'penalty':['l1','l2'],\n",
    "            'C':range(-4,4)}\n",
    "\n",
    "# Create the grid:\n",
    "gs_log = GridSearchCV(logreg, grid_log, scoring='accuracy', cv=3, return_train_score = True)\n",
    "\n",
    "# Fit using grid search:\n",
    "gs_log.fit(X_train, y_train)\n",
    "\n",
    "# Print best accuracy and best parameters:\n",
    "print('Best accuracy: %.3f' % gs_log.best_score_)\n",
    "print('\\nBest params:\\n', gs_log.best_params_)"
   ]
  },
  {
   "cell_type": "code",
   "execution_count": 12,
   "metadata": {},
   "outputs": [
    {
     "name": "stdout",
     "output_type": "stream",
     "text": [
      "Logistic Regression Train Accuracy:  75.7179207560887 %\n",
      "Logistic Regession Test Accuracy:  74.6395250212044 %\n",
      "              precision    recall  f1-score   support\n",
      "\n",
      "           0       0.69      0.58      0.63       438\n",
      "           1       0.77      0.84      0.81       741\n",
      "\n",
      "    accuracy                           0.75      1179\n",
      "   macro avg       0.73      0.71      0.72      1179\n",
      "weighted avg       0.74      0.75      0.74      1179\n",
      "\n"
     ]
    },
    {
     "data": {
      "image/png": "[encoded data removed]",
      "text/plain": [
       "<Figure size 432x288 with 2 Axes>"
      ]
     },
     "metadata": {
      "needs_background": "light"
     },
     "output_type": "display_data"
    }
   ],
   "source": [
    "# Create the classifier, fit it on the training data and make predictions on the test set:\n",
    "logr = LogisticRegression(penalty = 'l2', C = 1, random_state=123)\n",
    "\n",
    "logr.fit(X_train, y_train)\n",
    "y_pred_test_logr = logr.predict(X_test)\n",
    "y_pred_train_logr = logr.predict(X_train)\n",
    "\n",
    "# Check the Accuracy:\n",
    "print('Logistic Regression Train Accuracy: ', accuracy_score(y_train, y_pred_train_logr)*100,'%')\n",
    "print('Logistic Regession Test Accuracy: ', accuracy_score(y_test, y_pred_test_logr)*100,'%')\n",
    "\n",
    "# Print classification report:\n",
    "print(classification_report(y_test, y_pred_test_logr))\n",
    "\n",
    "# Confusion Matrix for Random Forest:\n",
    "cm_logr = confusion_matrix(y_test,y_pred_test_logr)\n",
    "confusion_matrix_plot(cm_logr, classes=class_names, title='Logistic Regression Confusion Matrix')"
   ]
  },
  {
   "cell_type": "markdown",
   "metadata": {},
   "source": [
    "Now that we have run all 5 of our models, let's take a look at all of their accuracy and F1 scores in order to determine which model we should proceed with. The F1 score is a harmonic mean of both precision (how accurate the predictions are) and the recall (% of positivies correctly identified)."
   ]
  },
  {
   "cell_type": "code",
   "execution_count": 13,
   "metadata": {},
   "outputs": [
    {
     "name": "stdout",
     "output_type": "stream",
     "text": [
      "----------------------------------------\n",
      "Accuracy\n",
      "----------------------------------------\n",
      "Decision Tree Test Accuracy:  70.22900763358778 %\n",
      "Random Forest Test Accuracy:  75.65733672603902 %\n",
      "Adaboost Test Accuracy:  74.72434266327396 %\n",
      "XGBoost Test Accuracy:  75.57251908396947 %\n",
      "Logistic Regession Test Accuracy:  74.6395250212044 %\n",
      "\n",
      "----------------------------------------\n",
      "Weighted F1 Score\n",
      "----------------------------------------\n",
      "Decision Tree F1 Score:  0.7719298245614035\n",
      "Random Forest F1 Score:  0.818008877615726\n",
      "Adaboost F1 Score:  0.8077419354838709\n",
      "XGBoost F1 Score:  0.8167938931297711\n",
      "Logistic Regession F1 Score:  0.8072211476466795\n"
     ]
    }
   ],
   "source": [
    "# print the accuracy score of each model:\n",
    "print('----------------------------------------')\n",
    "print('Accuracy')\n",
    "print('----------------------------------------')\n",
    "print('Decision Tree Test Accuracy: ', accuracy_score(y_test, y_pred_test_d_tree)*100,'%')\n",
    "print('Random Forest Test Accuracy: ', accuracy_score(y_test, y_pred_test_rf)*100,'%')\n",
    "print('Adaboost Test Accuracy: ', accuracy_score(y_test, y_pred_test_adab)*100,'%')\n",
    "print('XGBoost Test Accuracy: ', accuracy_score(y_test, y_pred_test_xgb)*100,'%')\n",
    "print('Logistic Regession Test Accuracy: ', accuracy_score(y_test, y_pred_test_logr)*100,'%')\n",
    "\n",
    "# Print the F1 score of each model:\n",
    "print('\\n----------------------------------------')    \n",
    "print('Weighted F1 Score')\n",
    "print('----------------------------------------')\n",
    "print('Decision Tree F1 Score: ', f1_score(y_test, y_pred_test_d_tree))\n",
    "print('Random Forest F1 Score: ', f1_score(y_test, y_pred_test_rf))\n",
    "print('Adaboost F1 Score: ', f1_score(y_test, y_pred_test_adab))\n",
    "print('XGBoost F1 Score: ', f1_score(y_test, y_pred_test_xgb))\n",
    "print('Logistic Regession F1 Score: ', f1_score(y_test, y_pred_test_logr))"
   ]
  },
  {
   "cell_type": "markdown",
   "metadata": {},
   "source": [
    "It looks like Random Forest is our most accurate model, though is closely followed by XGBoost. \n",
    "\n",
    "One factor I want to consider is that our data seems to be a bit imbalanced, with many more data points falling into the high ratings bucket vs. the low ratings bucket. Let's see if balancing the data would help improve any of our models. Adaboost and XGBoost already account for the imbalance so we just need to look at our Decision Tree, Random Forest, and Logistic Regression Models."
   ]
  },
  {
   "cell_type": "code",
   "execution_count": 14,
   "metadata": {},
   "outputs": [
    {
     "name": "stdout",
     "output_type": "stream",
     "text": [
      "----------------------------------------\n",
      "Accuracy\n",
      "----------------------------------------\n",
      "Original Decision Tree Test Accuracy:  70.22900763358778 %\n",
      "Balanced Decision Tree Test Accuracy:  68.27820186598814 %\n",
      "Original Random Forest Test Accuracy:  75.65733672603902 %\n",
      "Balanced Random Forest Test Accuracy:  74.72434266327396 %\n",
      "Adaboost Test Accuracy:  74.72434266327396 %\n",
      "XGBoost Test Accuracy:  75.57251908396947 %\n",
      "Original Logistic Regession Test Accuracy:  74.6395250212044 %\n",
      "Balanced Logistic Regession Test Accuracy:  73.19762510602206 %\n",
      "\n",
      "----------------------------------------\n",
      "Weighted F1 Score\n",
      "----------------------------------------\n",
      "Original Decision Tree F1 Score: 0.7719298245614035\n",
      "Balanced Decision Tree F1 Score:  0.7221396731054978\n",
      "Original Random Forest F1 Score:  0.818008877615726\n",
      "Balanced Random Forest F1 Score:  0.8015978695073235\n",
      "Adaboost F1 Score:  0.8077419354838709\n",
      "XGBoost F1 Score:  0.8167938931297711\n",
      "Original Logistic Regession F1 Score:  0.8072211476466795\n",
      "Balanced Logistic Regession F1 Score:  0.7765205091937766\n"
     ]
    }
   ],
   "source": [
    "# Decision Tree\n",
    "# Create the classifier with a balanced weight, fit it on the training data and make predictions on the test set:\n",
    "d_tree_bal = DecisionTreeClassifier(criterion='gini',max_depth=9,min_samples_split=4, random_state=123, \n",
    "                                class_weight='balanced')\n",
    "d_tree_bal = d_tree_bal.fit(X_train, y_train)\n",
    "y_pred_test_d_tree_bal = d_tree_bal.predict(X_test)\n",
    "y_pred_train_d_tree_bal = d_tree_bal.predict(X_train)\n",
    "\n",
    "\n",
    "# Random Forest\n",
    "# Create the classifier with a balanced weight, fit it on the training data and make predictions on the test set:\n",
    "rforest_bal = RandomForestClassifier(n_estimators=150, criterion = 'entropy', max_depth=None, max_features=8, \n",
    "                                 min_samples_split=5, random_state=123, class_weight='balanced')\n",
    "rforest_bal.fit(X_train, y_train)\n",
    "y_pred_test_rf_bal = rforest_bal.predict(X_test)\n",
    "y_pred_train_rf_bal = rforest_bal.predict(X_train)\n",
    "\n",
    "\n",
    "# Logistic Regression\n",
    "# Create the classifier with a balanced weight, fit it on the training data and make predictions on the test set:\n",
    "logr_bal = LogisticRegression(penalty = 'l2', C = 1, random_state=123, class_weight='balanced')\n",
    "\n",
    "logr_bal.fit(X_train, y_train)\n",
    "y_pred_test_logr_bal = logr_bal.predict(X_test)\n",
    "y_pred_train_logr_bal = logr_bal.predict(X_train)\n",
    "\n",
    "\n",
    "# print the accuracy score of each model:\n",
    "print('----------------------------------------')\n",
    "print('Accuracy')\n",
    "print('----------------------------------------')\n",
    "print('Original Decision Tree Test Accuracy: ', accuracy_score(y_test, y_pred_test_d_tree)*100,'%')\n",
    "print('Balanced Decision Tree Test Accuracy: ', accuracy_score(y_test, y_pred_test_d_tree_bal)*100,'%')\n",
    "print('Original Random Forest Test Accuracy: ', accuracy_score(y_test, y_pred_test_rf)*100,'%')\n",
    "print('Balanced Random Forest Test Accuracy: ', accuracy_score(y_test, y_pred_test_rf_bal)*100,'%')\n",
    "print('Adaboost Test Accuracy: ', accuracy_score(y_test, y_pred_test_adab)*100,'%')\n",
    "print('XGBoost Test Accuracy: ', accuracy_score(y_test, y_pred_test_xgb)*100,'%')\n",
    "print('Original Logistic Regession Test Accuracy: ', accuracy_score(y_test, y_pred_test_logr)*100,'%')\n",
    "print('Balanced Logistic Regession Test Accuracy: ', accuracy_score(y_test, y_pred_test_logr_bal)*100,'%')\n",
    "\n",
    "\n",
    "# Print the F1 score of each model:\n",
    "print('\\n----------------------------------------')    \n",
    "print('Weighted F1 Score')\n",
    "print('----------------------------------------')\n",
    "print('Original Decision Tree F1 Score:', f1_score(y_test, y_pred_test_d_tree))\n",
    "print('Balanced Decision Tree F1 Score: ', f1_score(y_test, y_pred_test_d_tree_bal))\n",
    "print('Original Random Forest F1 Score: ', f1_score(y_test, y_pred_test_rf))\n",
    "print('Balanced Random Forest F1 Score: ', f1_score(y_test, y_pred_test_rf_bal))\n",
    "print('Adaboost F1 Score: ', f1_score(y_test, y_pred_test_adab))\n",
    "print('XGBoost F1 Score: ', f1_score(y_test, y_pred_test_xgb))\n",
    "print('Original Logistic Regession F1 Score: ', f1_score(y_test, y_pred_test_logr))\n",
    "print('Balanced Logistic Regession F1 Score: ', f1_score(y_test, y_pred_test_logr_bal))"
   ]
  },
  {
   "cell_type": "markdown",
   "metadata": {},
   "source": [
    "Interestingly, it looks like balancing actually leads to a slightly less accurate model. However, Random Forest is still our best performing model. \n",
    "\n",
    "Moving forward with our original Random Forest model, let's take a look at which of the top 30 features are most important."
   ]
  },
  {
   "cell_type": "code",
   "execution_count": 15,
   "metadata": {},
   "outputs": [
    {
     "data": {
      "image/png": "[encoded data removed]",
      "text/plain": [
       "<Figure size 720x720 with 1 Axes>"
      ]
     },
     "metadata": {
      "needs_background": "light"
     },
     "output_type": "display_data"
    }
   ],
   "source": [
    "# Plot the 30 most influential features based on XGBoost model:\n",
    "influential_features = pd.Series(rforest.feature_importances_, index=X.columns)\n",
    "influential_features.nlargest(30).sort_values().plot(kind='barh', color='slategrey', figsize=(10,10))\n",
    "plt.title('Feature Importances with Random Forest');"
   ]
  },
  {
   "cell_type": "markdown",
   "metadata": {},
   "source": [
    "# Conclusion:\n",
    "\n",
    "Out of our 5 Classification models, Random Forest is our most accurate model with an accuracy of 75.66% and an F1 score of 0.818. Within this model, the most influential features include a few neighborhoods such as Midtown West, Morningside Heights, and Greenwich Village along with having more than 31 inspection grade visits or 11-20 visits, receiving or not receiving a critical flag, and the price value of 2 dollar signs. \n",
    "\n",
    "From this analysis, a couple of things I would recommend to current or prospective restaurant owners include:\n",
    "- If possible, consider opening a restaurant in Midtown West or Greenwich Village as restaurants in these neighborhoods tend to receive higher Yelp ratings and higher ratings can lead to drawing in more customers. Additionally, avoid opening a restaurant in Morningside Heights as these tend to receive lower Yelp ratings.\n",
    "- Avoid receiving a critical violation flag in an inspection as having one of these violations likely leads to lower Yelp ratings, while not having a critical violation flag likely leads to higher Yelp ratings.\n",
    "\n",
    "\n",
    "\n",
    "# Next Steps:\n",
    "\n",
    "While this model is pretty accurate, there is still room to improve the model and become even more accurate. For example, further tuning the model by testing out additional hyperparameters in addition to the ones we have included here.\n",
    "\n",
    "In addition to making this model more accurate, I am also interested in expanding this analysis beyond Manhattan and into the other NYC boroughs to see if the trends seen in Manhattan shift or remain the same in other boroughs."
   ]
  },
  {
   "cell_type": "code",
   "execution_count": null,
   "metadata": {},
   "outputs": [],
   "source": []
  }
 ],
 "metadata": {
  "kernelspec": {
   "display_name": "learn-env",
   "language": "python",
   "name": "learn-env"
  },
  "language_info": {
   "codemirror_mode": {
    "name": "ipython",
    "version": 3
   },
   "file_extension": ".py",
   "mimetype": "text/x-python",
   "name": "python",
   "nbconvert_exporter": "python",
   "pygments_lexer": "ipython3",
   "version": "3.6.6"
  }
 },
 "nbformat": 4,
 "nbformat_minor": 2
}
